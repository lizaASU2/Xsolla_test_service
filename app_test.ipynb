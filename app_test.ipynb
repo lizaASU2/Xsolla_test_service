{
  "nbformat": 4,
  "nbformat_minor": 0,
  "metadata": {
    "kernelspec": {
      "display_name": "Python 3",
      "language": "python",
      "name": "python3"
    },
    "language_info": {
      "codemirror_mode": {
        "name": "ipython",
        "version": 3
      },
      "file_extension": ".py",
      "mimetype": "text/x-python",
      "name": "python",
      "nbconvert_exporter": "python",
      "pygments_lexer": "ipython3",
      "version": "3.7.3"
    },
    "toc": {
      "base_numbering": 1,
      "nav_menu": {},
      "number_sections": true,
      "sideBar": true,
      "skip_h1_title": false,
      "title_cell": "Table of Contents",
      "title_sidebar": "Contents",
      "toc_cell": false,
      "toc_position": {},
      "toc_section_display": true,
      "toc_window_display": false
    },
    "colab": {
      "name": "4_multilabel_classification.ipynb",
      "provenance": [],
      "collapsed_sections": []
    }
  },
  "cells": [
    {
      "cell_type": "markdown",
      "metadata": {
        "id": "b_2vT3Re9PY-",
        "colab_type": "text"
      },
      "source": [
        "# Задача\n",
        "одна из проблем, которую мы видим при обращении в саппорт - в разрезе разных категорий обращения необходимо смотреть в разные сервисы и собирать дополнительную информацию. На это уходит много времени. на одно обращение уходит в среднем 2 минуты поиска дополнительной информации. Стоимость часа работы сотрудника 6$.\n",
        "\n",
        "Давайте поможем и оптимизируем время и деньги компании - сделаем модель,которая в зависимости от текста будет определять категорию обращения автоматически.\n",
        "\n",
        "Тогда мы сможем сразу подготавливать информацию для наших операторов в течение 5 секунд (сбор и передача на фронт)\n",
        "\n",
        "Нужно сделать модель многоклассовой классификации определения категории обращения"
      ]
    },
    {
      "cell_type": "markdown",
      "metadata": {
        "id": "v1kxYl8i9PaG",
        "colab_type": "text"
      },
      "source": [
        "# загружаем данные"
      ]
    },
    {
      "cell_type": "code",
      "metadata": {
        "id": "_Cv-vy4uD9oe",
        "colab_type": "code",
        "colab": {}
      },
      "source": [
        "#!pip install sumy"
      ],
      "execution_count": 180,
      "outputs": []
    },
    {
      "cell_type": "code",
      "metadata": {
        "id": "jinw5JxpEJ2J",
        "colab_type": "code",
        "colab": {
          "base_uri": "https://localhost:8080/",
          "height": 190
        },
        "outputId": "3a120c4a-09af-47bb-fcab-6860f60b72a1"
      },
      "source": [
        "#!pip install stop_words"
      ],
      "execution_count": null,
      "outputs": [
        {
          "output_type": "stream",
          "text": [
            "Collecting stop_words\n",
            "  Downloading https://files.pythonhosted.org/packages/1c/cb/d58290804b7a4c5daa42abbbe2a93c477ae53e45541b1825e86f0dfaaf63/stop-words-2018.7.23.tar.gz\n",
            "Building wheels for collected packages: stop-words\n",
            "  Building wheel for stop-words (setup.py) ... \u001b[?25l\u001b[?25hdone\n",
            "  Created wheel for stop-words: filename=stop_words-2018.7.23-cp36-none-any.whl size=32916 sha256=d035fc6debf21c996f5ffe8129d8179d3ecc0cf0127771a4120807e7abb09027\n",
            "  Stored in directory: /root/.cache/pip/wheels/75/37/6a/2b295e03bd07290f0da95c3adb9a74ba95fbc333aa8b0c7c78\n",
            "Successfully built stop-words\n",
            "Installing collected packages: stop-words\n",
            "Successfully installed stop-words-2018.7.23\n"
          ],
          "name": "stdout"
        }
      ]
    },
    {
      "cell_type": "code",
      "metadata": {
        "id": "IzV47bWh9PaM",
        "colab_type": "code",
        "colab": {}
      },
      "source": [
        "\n",
        "from sklearn.feature_extraction.text import TfidfVectorizer\n",
        "\n",
        "import datetime\n",
        "import requests\n",
        "import collections as co\n",
        "import string\n",
        "import re\n",
        "\n",
        "import nltk\n",
        "from sumy.utils import get_stop_words as gsw1\n",
        "from stop_words import get_stop_words as gsw2\n",
        "\n",
        "\n",
        "import pandas as pd\n",
        "import numpy as np"
      ],
      "execution_count": null,
      "outputs": []
    },
    {
      "cell_type": "code",
      "metadata": {
        "id": "ZsIPc79CtjcN",
        "colab_type": "code",
        "colab": {}
      },
      "source": [
        ""
      ],
      "execution_count": null,
      "outputs": []
    },
    {
      "cell_type": "code",
      "metadata": {
        "id": "raq_t1Vt9Pbf",
        "colab_type": "code",
        "colab": {
          "base_uri": "https://localhost:8080/",
          "height": 71
        },
        "outputId": "f6680a65-4e6d-45e3-83b3-3fd3317c8cab"
      },
      "source": [
        "\n",
        "from io import StringIO\n",
        "\n",
        "import matplotlib.pyplot as plt\n",
        "import seaborn as sns\n",
        "\n",
        "%matplotlib inline"
      ],
      "execution_count": null,
      "outputs": [
        {
          "output_type": "stream",
          "text": [
            "/usr/local/lib/python3.6/dist-packages/statsmodels/tools/_testing.py:19: FutureWarning: pandas.util.testing is deprecated. Use the functions in the public API at pandas.testing instead.\n",
            "  import pandas.util.testing as tm\n"
          ],
          "name": "stderr"
        }
      ]
    },
    {
      "cell_type": "code",
      "metadata": {
        "id": "bA8higta9PcC",
        "colab_type": "code",
        "colab": {
          "base_uri": "https://localhost:8080/",
          "height": 34
        },
        "outputId": "a9b887dc-d412-4b55-99ab-c0b33b8b7282"
      },
      "source": [
        "df = pd.read_csv('3categories_50.csv')\n",
        "df.shape"
      ],
      "execution_count": null,
      "outputs": [
        {
          "output_type": "execute_result",
          "data": {
            "text/plain": [
              "(50000, 3)"
            ]
          },
          "metadata": {
            "tags": []
          },
          "execution_count": 5
        }
      ]
    },
    {
      "cell_type": "code",
      "metadata": {
        "id": "IiDX89uGD3pS",
        "colab_type": "code",
        "colab": {
          "base_uri": "https://localhost:8080/",
          "height": 122
        },
        "outputId": "3f21c108-aacf-4e57-93dd-098ced578aba"
      },
      "source": [
        "from google.colab import drive\n",
        "drive.mount('/content/drive')"
      ],
      "execution_count": null,
      "outputs": [
        {
          "output_type": "stream",
          "text": [
            "Go to this URL in a browser: https://accounts.google.com/o/oauth2/auth?client_id=947318989803-6bn6qk8qdgf4n4g3pfee6491hc0brc4i.apps.googleusercontent.com&redirect_uri=urn%3aietf%3awg%3aoauth%3a2.0%3aoob&scope=email%20https%3a%2f%2fwww.googleapis.com%2fauth%2fdocs.test%20https%3a%2f%2fwww.googleapis.com%2fauth%2fdrive%20https%3a%2f%2fwww.googleapis.com%2fauth%2fdrive.photos.readonly%20https%3a%2f%2fwww.googleapis.com%2fauth%2fpeopleapi.readonly&response_type=code\n",
            "\n",
            "Enter your authorization code:\n",
            "··········\n",
            "Mounted at /content/drive\n"
          ],
          "name": "stdout"
        }
      ]
    },
    {
      "cell_type": "code",
      "metadata": {
        "id": "NP8_dpWJ9PdE",
        "colab_type": "code",
        "colab": {
          "base_uri": "https://localhost:8080/",
          "height": 111
        },
        "outputId": "cef4e7c5-a335-4056-e7c7-3d9d74893e94"
      },
      "source": [
        "df.head(2)"
      ],
      "execution_count": null,
      "outputs": [
        {
          "output_type": "execute_result",
          "data": {
            "text/html": [
              "<div>\n",
              "<style scoped>\n",
              "    .dataframe tbody tr th:only-of-type {\n",
              "        vertical-align: middle;\n",
              "    }\n",
              "\n",
              "    .dataframe tbody tr th {\n",
              "        vertical-align: top;\n",
              "    }\n",
              "\n",
              "    .dataframe thead th {\n",
              "        text-align: right;\n",
              "    }\n",
              "</style>\n",
              "<table border=\"1\" class=\"dataframe\">\n",
              "  <thead>\n",
              "    <tr style=\"text-align: right;\">\n",
              "      <th></th>\n",
              "      <th>channel</th>\n",
              "      <th>category</th>\n",
              "      <th>message</th>\n",
              "    </tr>\n",
              "  </thead>\n",
              "  <tbody>\n",
              "    <tr>\n",
              "      <th>0</th>\n",
              "      <td>chat</td>\n",
              "      <td>afs</td>\n",
              "      <td>\\nChat transcript:\\nVisitor: I am attempting t...</td>\n",
              "    </tr>\n",
              "    <tr>\n",
              "      <th>1</th>\n",
              "      <td>chat</td>\n",
              "      <td>other</td>\n",
              "      <td>\\nChat transcript:\\nVisitor: Hi. For some reas...</td>\n",
              "    </tr>\n",
              "  </tbody>\n",
              "</table>\n",
              "</div>"
            ],
            "text/plain": [
              "  channel category                                            message\n",
              "0    chat      afs  \\nChat transcript:\\nVisitor: I am attempting t...\n",
              "1    chat    other  \\nChat transcript:\\nVisitor: Hi. For some reas..."
            ]
          },
          "metadata": {
            "tags": []
          },
          "execution_count": 7
        }
      ]
    },
    {
      "cell_type": "code",
      "metadata": {
        "id": "a7dTR8M69Pdk",
        "colab_type": "code",
        "colab": {
          "base_uri": "https://localhost:8080/",
          "height": 282
        },
        "outputId": "d0be86d9-8881-42c7-d02d-a50be135dffa"
      },
      "source": [
        "df['category'].hist()"
      ],
      "execution_count": null,
      "outputs": [
        {
          "output_type": "execute_result",
          "data": {
            "text/plain": [
              "<matplotlib.axes._subplots.AxesSubplot at 0x7f777d02be10>"
            ]
          },
          "metadata": {
            "tags": []
          },
          "execution_count": 8
        },
        {
          "output_type": "display_data",
          "data": {
            "image/png": "[encoded data removed]",
            "text/plain": [
              "<Figure size 432x288 with 1 Axes>"
            ]
          },
          "metadata": {
            "tags": [],
            "needs_background": "light"
          }
        }
      ]
    },
    {
      "cell_type": "markdown",
      "metadata": {
        "id": "6bOI5ZiG9PeL",
        "colab_type": "text"
      },
      "source": [
        "# прежде всего очистка данных"
      ]
    },
    {
      "cell_type": "code",
      "metadata": {
        "id": "Q7TdJmul9PeT",
        "colab_type": "code",
        "colab": {}
      },
      "source": [
        "#убираем технические данные в сообщениях и прочий шум\n",
        "df['message'] = df['message'].str.replace('\\[.*\\]', '', regex=True)\n",
        "\n",
        "df['message'] = df['message'].str.replace(\"\\!\", '', regex=True)\n",
        "df['message'] = df['message'].str.replace(\"\\'\", '', regex=True)\n",
        "\n",
        "df['message'] = df['message'].str.replace(\"[^A-Za-z0-9^,!.\\/'+-=]\", ' ', regex=True)\n"
      ],
      "execution_count": null,
      "outputs": []
    },
    {
      "cell_type": "code",
      "metadata": {
        "id": "C2Yy3FP69Pe2",
        "colab_type": "code",
        "colab": {}
      },
      "source": [
        "#переведем в нижний регистр\n",
        "df['message'] = df['message'].str.replace(\"\\s+\", ' ', regex=True)\n",
        "df['message'] = df['message'].str.lower()"
      ],
      "execution_count": null,
      "outputs": []
    },
    {
      "cell_type": "code",
      "metadata": {
        "id": "EUfJZ8t-9Pfv",
        "colab_type": "code",
        "colab": {
          "base_uri": "https://localhost:8080/",
          "height": 34
        },
        "outputId": "8fed849f-68a0-4768-e63f-d979096a9222"
      },
      "source": [
        "#уберем шум\n",
        "df.dropna(inplace = True)\n",
        "df.shape"
      ],
      "execution_count": null,
      "outputs": [
        {
          "output_type": "execute_result",
          "data": {
            "text/plain": [
              "(49999, 3)"
            ]
          },
          "metadata": {
            "tags": []
          },
          "execution_count": 11
        }
      ]
    },
    {
      "cell_type": "code",
      "metadata": {
        "id": "H3nMFQ2k9Pgn",
        "colab_type": "code",
        "colab": {
          "base_uri": "https://localhost:8080/",
          "height": 34
        },
        "outputId": "3de7680b-1389-4174-ed27-a47bd12a3a2b"
      },
      "source": [
        "# уберем шумовые длинные сообщения\n",
        "df['message_len'] = df['message'].str.len()\n",
        "\n",
        "df = df[(df['message_len'] < np.percentile(df.message_len,99))][:]\n",
        "\n",
        "df.shape"
      ],
      "execution_count": null,
      "outputs": [
        {
          "output_type": "execute_result",
          "data": {
            "text/plain": [
              "(49499, 4)"
            ]
          },
          "metadata": {
            "tags": []
          },
          "execution_count": 12
        }
      ]
    },
    {
      "cell_type": "markdown",
      "metadata": {
        "id": "ZXzJFnQv9PhG",
        "colab_type": "text"
      },
      "source": [
        "# очистим весь наш текст от шумовых слов и преобразуем к первообразным формам\n"
      ]
    },
    {
      "cell_type": "code",
      "metadata": {
        "id": "sblp_Bp79PhK",
        "colab_type": "code",
        "colab": {}
      },
      "source": [
        "#давайте попробуем очистить от шума наши сообщения и создадим новый текст очищенный от мусора"
      ],
      "execution_count": null,
      "outputs": []
    },
    {
      "cell_type": "code",
      "metadata": {
        "id": "HiY7BO7K9Phu",
        "colab_type": "code",
        "colab": {
          "base_uri": "https://localhost:8080/",
          "height": 111
        },
        "outputId": "d13a7422-b44f-4307-e4c1-f9f24ac6fe31"
      },
      "source": [
        "df_reviews = df[['message']][:]\n",
        "df_reviews.columns = ['review']\n",
        "df_reviews.reset_index(drop = True , inplace = True)\n",
        "df_reviews.head(2)"
      ],
      "execution_count": null,
      "outputs": [
        {
          "output_type": "execute_result",
          "data": {
            "text/html": [
              "<div>\n",
              "<style scoped>\n",
              "    .dataframe tbody tr th:only-of-type {\n",
              "        vertical-align: middle;\n",
              "    }\n",
              "\n",
              "    .dataframe tbody tr th {\n",
              "        vertical-align: top;\n",
              "    }\n",
              "\n",
              "    .dataframe thead th {\n",
              "        text-align: right;\n",
              "    }\n",
              "</style>\n",
              "<table border=\"1\" class=\"dataframe\">\n",
              "  <thead>\n",
              "    <tr style=\"text-align: right;\">\n",
              "      <th></th>\n",
              "      <th>review</th>\n",
              "    </tr>\n",
              "  </thead>\n",
              "  <tbody>\n",
              "    <tr>\n",
              "      <th>0</th>\n",
              "      <td>chat transcript: visitor: i am attempting to ...</td>\n",
              "    </tr>\n",
              "    <tr>\n",
              "      <th>1</th>\n",
              "      <td>chat transcript: visitor: hi. for some reason...</td>\n",
              "    </tr>\n",
              "  </tbody>\n",
              "</table>\n",
              "</div>"
            ],
            "text/plain": [
              "                                              review\n",
              "0   chat transcript: visitor: i am attempting to ...\n",
              "1   chat transcript: visitor: hi. for some reason..."
            ]
          },
          "metadata": {
            "tags": []
          },
          "execution_count": 13
        }
      ]
    },
    {
      "cell_type": "code",
      "metadata": {
        "id": "56GpCvnO9PiP",
        "colab_type": "code",
        "colab": {}
      },
      "source": [
        "\n",
        "list_count_words = []\n",
        "list_true_words = []\n",
        "list_tagged = []\n",
        "list_tags = []\n",
        "\n",
        "for i ,row in  df_reviews.iterrows():\n",
        "    words = []\n",
        "    tagged = []\n",
        "    true_words = []\n",
        "    tags = []\n",
        "    \n",
        "    a_line = row['review']\n",
        "\n",
        "    \n",
        "    try:\n",
        "        words = re.split(' ', a_line)\n",
        "        true_words = []\n",
        "\n",
        "        for word in words:\n",
        "            m = re.search('(\\w+)',word)\n",
        "            if m is not None:\n",
        "                good_word = m.group(0)\n",
        "                true_words.append(good_word)\n",
        "\n",
        "        tagged = nltk.pos_tag(true_words)\n",
        "        tags = []\n",
        "        for tag in tagged:\n",
        "            tags.append(tag[1])\n",
        "    except:\n",
        "        pass\n",
        "\n",
        "\n",
        "\n",
        "    list_count_words.append(len(words))   \n",
        "    list_tagged.append(tagged)\n",
        "    list_true_words.append(true_words)\n",
        "    list_tags.append(tags)\n"
      ],
      "execution_count": null,
      "outputs": []
    },
    {
      "cell_type": "code",
      "metadata": {
        "id": "MylJu97vW20A",
        "colab_type": "code",
        "colab": {
          "base_uri": "https://localhost:8080/",
          "height": 102
        },
        "outputId": "7ab039a7-e474-4923-a015-4e9023b5abb2"
      },
      "source": [
        "import nltk\n",
        "nltk.download('averaged_perceptron_tagger')"
      ],
      "execution_count": null,
      "outputs": [
        {
          "output_type": "stream",
          "text": [
            "[nltk_data] Downloading package averaged_perceptron_tagger to\n",
            "[nltk_data]     /root/nltk_data...\n",
            "[nltk_data]   Package averaged_perceptron_tagger is already up-to-\n",
            "[nltk_data]       date!\n"
          ],
          "name": "stdout"
        },
        {
          "output_type": "execute_result",
          "data": {
            "text/plain": [
              "True"
            ]
          },
          "metadata": {
            "tags": []
          },
          "execution_count": 19
        }
      ]
    },
    {
      "cell_type": "code",
      "metadata": {
        "id": "QBcPuGE09Pip",
        "colab_type": "code",
        "colab": {}
      },
      "source": [
        "df_reviews['count_words'] = list_count_words\n",
        "df_reviews['list_of_words'] = list_true_words\n",
        "\n",
        "df_reviews['list_of_tags'] = list_tags\n",
        "df_reviews['word_with_tag_list'] = list_tagged\n"
      ],
      "execution_count": null,
      "outputs": []
    },
    {
      "cell_type": "code",
      "metadata": {
        "id": "qqdiHYGi9PjE",
        "colab_type": "code",
        "colab": {
          "base_uri": "https://localhost:8080/",
          "height": 289
        },
        "outputId": "60a19cd6-09ee-4b58-bb4e-74e1f8382970"
      },
      "source": [
        "text_analizator_df = df_reviews[:]\n",
        "text_analizator_df.rename(columns = {'review' : 'sentence'} , inplace = True)\n",
        "text_analizator_df.head()"
      ],
      "execution_count": null,
      "outputs": [
        {
          "output_type": "execute_result",
          "data": {
            "text/html": [
              "<div>\n",
              "<style scoped>\n",
              "    .dataframe tbody tr th:only-of-type {\n",
              "        vertical-align: middle;\n",
              "    }\n",
              "\n",
              "    .dataframe tbody tr th {\n",
              "        vertical-align: top;\n",
              "    }\n",
              "\n",
              "    .dataframe thead th {\n",
              "        text-align: right;\n",
              "    }\n",
              "</style>\n",
              "<table border=\"1\" class=\"dataframe\">\n",
              "  <thead>\n",
              "    <tr style=\"text-align: right;\">\n",
              "      <th></th>\n",
              "      <th>sentence</th>\n",
              "      <th>count_words</th>\n",
              "      <th>list_of_words</th>\n",
              "      <th>list_of_tags</th>\n",
              "      <th>word_with_tag_list</th>\n",
              "    </tr>\n",
              "  </thead>\n",
              "  <tbody>\n",
              "    <tr>\n",
              "      <th>0</th>\n",
              "      <td>chat transcript: visitor: i am attempting to ...</td>\n",
              "      <td>58</td>\n",
              "      <td>[chat, transcript, visitor, i, am, attempting,...</td>\n",
              "      <td>[RB, JJ, NN, NN, VBP, VBG, TO, VB, PRP$, NN, R...</td>\n",
              "      <td>[(chat, RB), (transcript, JJ), (visitor, NN), ...</td>\n",
              "    </tr>\n",
              "    <tr>\n",
              "      <th>1</th>\n",
              "      <td>chat transcript: visitor: hi. for some reason...</td>\n",
              "      <td>113</td>\n",
              "      <td>[chat, transcript, visitor, hi, for, some, rea...</td>\n",
              "      <td>[RB, JJ, NN, NN, IN, DT, NN, PRP, VBZ, IN, PRP...</td>\n",
              "      <td>[(chat, RB), (transcript, JJ), (visitor, NN), ...</td>\n",
              "    </tr>\n",
              "    <tr>\n",
              "      <th>2</th>\n",
              "      <td>chat transcript: visitor: , faceit, andrew: ....</td>\n",
              "      <td>50</td>\n",
              "      <td>[chat, transcript, visitor, faceit, andrew, vi...</td>\n",
              "      <td>[RB, JJ, NN, NN, VBD, NN, NN, NN, VBD, TO, VB,...</td>\n",
              "      <td>[(chat, RB), (transcript, JJ), (visitor, NN), ...</td>\n",
              "    </tr>\n",
              "    <tr>\n",
              "      <th>3</th>\n",
              "      <td>chat transcript: visitor: no puedo hacer la r...</td>\n",
              "      <td>157</td>\n",
              "      <td>[chat, transcript, visitor, no, puedo, hacer, ...</td>\n",
              "      <td>[RB, JJ, NN, DT, NN, NN, FW, FW, FW, NN, VBD, ...</td>\n",
              "      <td>[(chat, RB), (transcript, JJ), (visitor, NN), ...</td>\n",
              "    </tr>\n",
              "    <tr>\n",
              "      <th>4</th>\n",
              "      <td>chat transcript: visitor: hi im trying to buy...</td>\n",
              "      <td>110</td>\n",
              "      <td>[chat, transcript, visitor, hi, im, trying, to...</td>\n",
              "      <td>[RB, JJ, NN, NN, NN, VBG, TO, VB, NNS, CC, PRP...</td>\n",
              "      <td>[(chat, RB), (transcript, JJ), (visitor, NN), ...</td>\n",
              "    </tr>\n",
              "  </tbody>\n",
              "</table>\n",
              "</div>"
            ],
            "text/plain": [
              "                                            sentence  ...                                 word_with_tag_list\n",
              "0   chat transcript: visitor: i am attempting to ...  ...  [(chat, RB), (transcript, JJ), (visitor, NN), ...\n",
              "1   chat transcript: visitor: hi. for some reason...  ...  [(chat, RB), (transcript, JJ), (visitor, NN), ...\n",
              "2   chat transcript: visitor: , faceit, andrew: ....  ...  [(chat, RB), (transcript, JJ), (visitor, NN), ...\n",
              "3   chat transcript: visitor: no puedo hacer la r...  ...  [(chat, RB), (transcript, JJ), (visitor, NN), ...\n",
              "4   chat transcript: visitor: hi im trying to buy...  ...  [(chat, RB), (transcript, JJ), (visitor, NN), ...\n",
              "\n",
              "[5 rows x 5 columns]"
            ]
          },
          "metadata": {
            "tags": []
          },
          "execution_count": 21
        }
      ]
    },
    {
      "cell_type": "code",
      "metadata": {
        "id": "lJfxuf0B9Pjn",
        "colab_type": "code",
        "colab": {}
      },
      "source": [
        "#получили новое смысловое описание атрибутов текста, видно много местоимений и другой информации, давайте очистим"
      ],
      "execution_count": null,
      "outputs": []
    },
    {
      "cell_type": "code",
      "metadata": {
        "id": "juJHJ_ngH4Ls",
        "colab_type": "code",
        "colab": {
          "base_uri": "https://localhost:8080/",
          "height": 68
        },
        "outputId": "942472de-465e-4bbe-97a4-cd5ef83021b3"
      },
      "source": [
        "import nltk\n",
        "nltk.download('stopwords')"
      ],
      "execution_count": null,
      "outputs": [
        {
          "output_type": "stream",
          "text": [
            "[nltk_data] Downloading package stopwords to /root/nltk_data...\n",
            "[nltk_data]   Unzipping corpora/stopwords.zip.\n"
          ],
          "name": "stdout"
        },
        {
          "output_type": "execute_result",
          "data": {
            "text/plain": [
              "True"
            ]
          },
          "metadata": {
            "tags": []
          },
          "execution_count": 22
        }
      ]
    },
    {
      "cell_type": "code",
      "metadata": {
        "id": "f2PsGkFp9PkE",
        "colab_type": "code",
        "colab": {}
      },
      "source": [
        "stopWords =nltk.corpus.stopwords.words()\n",
        "\n",
        "LANGUAGE = 'english'\n",
        "\n",
        "sw0 = [\"yeah\",\"zola\",\"don\"]\n",
        "sw1 = gsw1(LANGUAGE)\n",
        "sw2 = gsw2('en')\n",
        "\n",
        "sw0.extend(list(sw1))\n",
        "sw0.extend(list(sw2))\n",
        "\n",
        "\n",
        "\n",
        "new_s_list = []\n",
        "new_lw_list = []\n",
        "new_lt_list = []\n",
        "new_lwt_list = []\n",
        "new_count_words = []\n",
        "\n",
        "for s , lw , lt ,lwt in zip (text_analizator_df['sentence'] \n",
        "                        , text_analizator_df['list_of_words'] \n",
        "                        , text_analizator_df['list_of_tags']\n",
        "                        , text_analizator_df['word_with_tag_list']):\n",
        "    new_s = ''\n",
        "    new_lw = []\n",
        "    new_lt = []\n",
        "    new_lwt = []\n",
        "    for w,t,lw in zip(lw,lt,lwt):\n",
        "        if t in ['NN','VB','DT','NNS','VBP','VB']:\n",
        "            new_s += w + ' '\n",
        "            new_lw.append(w)\n",
        "            new_lt.append(t)\n",
        "            new_lwt.append(lw)\n",
        "        elif w in sw0 or re.match('\\d+',w) is not None:\n",
        "            continue\n",
        "\n",
        "    \n",
        "    new_s_list.append(new_s)\n",
        "    new_lw_list.append(new_lw)\n",
        "    new_lt_list.append(new_lt)\n",
        "    new_lwt_list.append(new_lwt)\n",
        "    new_count_words.append(len(new_lw))\n",
        "        \n",
        "text_analizator_df['new_sentence'] = new_s_list\n",
        "text_analizator_df['list_of_words'] = new_lw_list\n",
        "text_analizator_df['list_of_tags'] = new_lt_list\n",
        "text_analizator_df['word_with_tag_list'] = new_lwt_list\n",
        "text_analizator_df['count_words'] = new_count_words\n"
      ],
      "execution_count": null,
      "outputs": []
    },
    {
      "cell_type": "code",
      "metadata": {
        "id": "8phplFzUJWGQ",
        "colab_type": "code",
        "colab": {}
      },
      "source": [
        "#import nltk \n",
        "#nltk.download('stopwords')"
      ],
      "execution_count": null,
      "outputs": []
    },
    {
      "cell_type": "code",
      "metadata": {
        "id": "zQzNRmIX9Pkm",
        "colab_type": "code",
        "colab": {
          "base_uri": "https://localhost:8080/",
          "height": 105
        },
        "outputId": "bdb7bf95-7bec-4ada-905d-48764d8f892f"
      },
      "source": [
        "# в итоге выделив основные главне слова, которые нам могут быть интересны потенциально\n",
        "# получили new_sentence, можнте посмотреть как он отличается\n",
        "print(f'old- {text_analizator_df.loc[0][\"sentence\"]}' )\n",
        "print('\\n')\n",
        "print(f'new -{text_analizator_df.loc[0][\"new_sentence\"]}' )"
      ],
      "execution_count": null,
      "outputs": [
        {
          "output_type": "stream",
          "text": [
            "old-  chat transcript: visitor: i am attempting to verify my card however the payment is not posting. all charges typically post immediately with my bank. sofia: hello sofia: please stand by online, as it may take some time to resolve the issue. ill provide you with an update in a few minutes. thank you for your patience. \n",
            "\n",
            "\n",
            "new -visitor i am verify card the payment all charges post bank sofia hello sofia please stand online take some time resolve the issue ill an update a minutes thank patience \n"
          ],
          "name": "stdout"
        }
      ]
    },
    {
      "cell_type": "code",
      "metadata": {
        "id": "oorYefv89PlU",
        "colab_type": "code",
        "colab": {
          "base_uri": "https://localhost:8080/",
          "height": 374
        },
        "outputId": "02607eab-a0bd-4531-e9ee-f87a1479dde3"
      },
      "source": [
        "text_analizator_df.head()"
      ],
      "execution_count": null,
      "outputs": [
        {
          "output_type": "execute_result",
          "data": {
            "text/html": [
              "<div>\n",
              "<style scoped>\n",
              "    .dataframe tbody tr th:only-of-type {\n",
              "        vertical-align: middle;\n",
              "    }\n",
              "\n",
              "    .dataframe tbody tr th {\n",
              "        vertical-align: top;\n",
              "    }\n",
              "\n",
              "    .dataframe thead th {\n",
              "        text-align: right;\n",
              "    }\n",
              "</style>\n",
              "<table border=\"1\" class=\"dataframe\">\n",
              "  <thead>\n",
              "    <tr style=\"text-align: right;\">\n",
              "      <th></th>\n",
              "      <th>sentence</th>\n",
              "      <th>count_words</th>\n",
              "      <th>list_of_words</th>\n",
              "      <th>list_of_tags</th>\n",
              "      <th>word_with_tag_list</th>\n",
              "      <th>new_sentence</th>\n",
              "    </tr>\n",
              "  </thead>\n",
              "  <tbody>\n",
              "    <tr>\n",
              "      <th>0</th>\n",
              "      <td>chat transcript: visitor: i am attempting to ...</td>\n",
              "      <td>30</td>\n",
              "      <td>[visitor, i, am, verify, card, the, payment, a...</td>\n",
              "      <td>[NN, NN, VBP, VB, NN, DT, NN, DT, NNS, VBP, NN...</td>\n",
              "      <td>[(visitor, NN), (i, NN), (am, VBP), (verify, V...</td>\n",
              "      <td>visitor i am verify card the payment all charg...</td>\n",
              "    </tr>\n",
              "    <tr>\n",
              "      <th>1</th>\n",
              "      <td>chat transcript: visitor: hi. for some reason...</td>\n",
              "      <td>64</td>\n",
              "      <td>[visitor, hi, some, reason, sub, prepcoin, nl,...</td>\n",
              "      <td>[NN, NN, DT, NN, NN, NN, NN, NN, VBP, NN, NN, ...</td>\n",
              "      <td>[(visitor, NN), (hi, NN), (some, DT), (reason,...</td>\n",
              "      <td>visitor hi some reason sub prepcoin nl didnt g...</td>\n",
              "    </tr>\n",
              "    <tr>\n",
              "      <th>2</th>\n",
              "      <td>chat transcript: visitor: , faceit, andrew: ....</td>\n",
              "      <td>17</td>\n",
              "      <td>[visitor, faceit, visitor, hello, i, pay, a, s...</td>\n",
              "      <td>[NN, NN, NN, NN, NN, VB, DT, NN, DT, NN, NN, D...</td>\n",
              "      <td>[(visitor, NN), (faceit, NN), (visitor, NN), (...</td>\n",
              "      <td>visitor faceit visitor hello i pay a subscript...</td>\n",
              "    </tr>\n",
              "    <tr>\n",
              "      <th>3</th>\n",
              "      <td>chat transcript: visitor: no puedo hacer la r...</td>\n",
              "      <td>80</td>\n",
              "      <td>[visitor, no, puedo, hacer, cash, infelizmente...</td>\n",
              "      <td>[NN, DT, NN, NN, NN, NN, NN, DT, NN, NN, NN, N...</td>\n",
              "      <td>[(visitor, NN), (no, DT), (puedo, NN), (hacer,...</td>\n",
              "      <td>visitor no puedo hacer cash infelizmente yo no...</td>\n",
              "    </tr>\n",
              "    <tr>\n",
              "      <th>4</th>\n",
              "      <td>chat transcript: visitor: hi im trying to buy...</td>\n",
              "      <td>48</td>\n",
              "      <td>[visitor, hi, im, buy, bits, payment, be, hell...</td>\n",
              "      <td>[NN, NN, NN, VB, NNS, NN, VB, NN, NN, VB, DT, ...</td>\n",
              "      <td>[(visitor, NN), (hi, NN), (im, NN), (buy, VB),...</td>\n",
              "      <td>visitor hi im buy bits payment be hello im add...</td>\n",
              "    </tr>\n",
              "  </tbody>\n",
              "</table>\n",
              "</div>"
            ],
            "text/plain": [
              "                                            sentence  ...                                       new_sentence\n",
              "0   chat transcript: visitor: i am attempting to ...  ...  visitor i am verify card the payment all charg...\n",
              "1   chat transcript: visitor: hi. for some reason...  ...  visitor hi some reason sub prepcoin nl didnt g...\n",
              "2   chat transcript: visitor: , faceit, andrew: ....  ...  visitor faceit visitor hello i pay a subscript...\n",
              "3   chat transcript: visitor: no puedo hacer la r...  ...  visitor no puedo hacer cash infelizmente yo no...\n",
              "4   chat transcript: visitor: hi im trying to buy...  ...  visitor hi im buy bits payment be hello im add...\n",
              "\n",
              "[5 rows x 6 columns]"
            ]
          },
          "metadata": {
            "tags": []
          },
          "execution_count": 25
        }
      ]
    },
    {
      "cell_type": "markdown",
      "metadata": {
        "id": "K7hj6kMO9Pm5",
        "colab_type": "text"
      },
      "source": [
        "# генерация вектора\n",
        "Давайте попробуем оставить только важные слова"
      ]
    },
    {
      "cell_type": "code",
      "metadata": {
        "id": "ISjHJX_09PnE",
        "colab_type": "code",
        "colab": {}
      },
      "source": [
        "text_analizator_df['text_arr'] = text_analizator_df.new_sentence.str.split('\\W+').tolist()"
      ],
      "execution_count": null,
      "outputs": []
    },
    {
      "cell_type": "code",
      "metadata": {
        "id": "YopBHdNp9Pni",
        "colab_type": "code",
        "colab": {}
      },
      "source": [
        "#сделаем массив из всех слов, разделенных пробелами, которые могут встречаться\n",
        "text_arrays = text_analizator_df['text_arr'].tolist()\n",
        "text_arrays = np.concatenate( text_arrays, axis=0 )\n"
      ],
      "execution_count": null,
      "outputs": []
    },
    {
      "cell_type": "code",
      "metadata": {
        "id": "y4cK05fN9PoC",
        "colab_type": "code",
        "colab": {}
      },
      "source": [
        "#уберем все пустые строки\n",
        "text_arrays = list( text_arrays)\n",
        "text_arrays = list(filter(None, text_arrays))"
      ],
      "execution_count": null,
      "outputs": []
    },
    {
      "cell_type": "code",
      "metadata": {
        "id": "6aQ2fWuF9Por",
        "colab_type": "code",
        "colab": {
          "base_uri": "https://localhost:8080/",
          "height": 488
        },
        "outputId": "0c55322a-793c-4a93-9999-a574d9f80f22"
      },
      "source": [
        "#проанализируем популярные слова\n",
        "from sklearn.feature_extraction.text import CountVectorizer\n",
        "\n",
        "c_text = co.Counter(text_arrays)\n",
        "\n",
        "w =[]\n",
        "count_w = []\n",
        "\n",
        "\n",
        "most_freq_words = []\n",
        "\n",
        "for i in c_text.most_common(20):\n",
        "    w.append(i[0])\n",
        "    count_w.append(i[1])\n",
        "\n",
        "fig, ax = plt.subplots(figsize=(16,8))\n",
        "ax.bar(range(len(w)), count_w)\n",
        "ax.set_xticks(range(len(w)))\n",
        "ax.set_xticklabels(w)\n",
        "ax.set_title('Top Words')"
      ],
      "execution_count": null,
      "outputs": [
        {
          "output_type": "execute_result",
          "data": {
            "text/plain": [
              "Text(0.5, 1.0, 'Top Words')"
            ]
          },
          "metadata": {
            "tags": []
          },
          "execution_count": 29
        },
        {
          "output_type": "display_data",
          "data": {
            "image/png": "[encoded data removed]",
            "text/plain": [
              "<Figure size 1152x576 with 1 Axes>"
            ]
          },
          "metadata": {
            "tags": [],
            "needs_background": "light"
          }
        }
      ]
    },
    {
      "cell_type": "code",
      "metadata": {
        "id": "oYXYY_A69PpS",
        "colab_type": "code",
        "colab": {
          "base_uri": "https://localhost:8080/",
          "height": 514
        },
        "outputId": "5a23a091-3ee8-4dfb-bcc2-d33f74397dd4"
      },
      "source": [
        "#посмотрим непопулярные слова мало ли там беда\n",
        "pd.DataFrame.from_dict(dict(c_text) , orient = 'index').sort_values(by = 0).head(15)\n",
        "\n",
        "#видно в непопулярных словах какой то треш, они явно бесполезны при создании нашей модели, идем верно"
      ],
      "execution_count": null,
      "outputs": [
        {
          "output_type": "execute_result",
          "data": {
            "text/html": [
              "<div>\n",
              "<style scoped>\n",
              "    .dataframe tbody tr th:only-of-type {\n",
              "        vertical-align: middle;\n",
              "    }\n",
              "\n",
              "    .dataframe tbody tr th {\n",
              "        vertical-align: top;\n",
              "    }\n",
              "\n",
              "    .dataframe thead th {\n",
              "        text-align: right;\n",
              "    }\n",
              "</style>\n",
              "<table border=\"1\" class=\"dataframe\">\n",
              "  <thead>\n",
              "    <tr style=\"text-align: right;\">\n",
              "      <th></th>\n",
              "      <th>0</th>\n",
              "    </tr>\n",
              "  </thead>\n",
              "  <tbody>\n",
              "    <tr>\n",
              "      <th>bayaga</th>\n",
              "      <td>1</td>\n",
              "    </tr>\n",
              "    <tr>\n",
              "      <th>lete</th>\n",
              "      <td>1</td>\n",
              "    </tr>\n",
              "    <tr>\n",
              "      <th>a1908111649410105</th>\n",
              "      <td>1</td>\n",
              "    </tr>\n",
              "    <tr>\n",
              "      <th>whar</th>\n",
              "      <td>1</td>\n",
              "    </tr>\n",
              "    <tr>\n",
              "      <th>photot</th>\n",
              "      <td>1</td>\n",
              "    </tr>\n",
              "    <tr>\n",
              "      <th>messengers</th>\n",
              "      <td>1</td>\n",
              "    </tr>\n",
              "    <tr>\n",
              "      <th>a1902101042404851</th>\n",
              "      <td>1</td>\n",
              "    </tr>\n",
              "    <tr>\n",
              "      <th>hellou</th>\n",
              "      <td>1</td>\n",
              "    </tr>\n",
              "    <tr>\n",
              "      <th>hdzuax958w7b</th>\n",
              "      <td>1</td>\n",
              "    </tr>\n",
              "    <tr>\n",
              "      <th>ajaxx</th>\n",
              "      <td>1</td>\n",
              "    </tr>\n",
              "    <tr>\n",
              "      <th>erudito</th>\n",
              "      <td>1</td>\n",
              "    </tr>\n",
              "    <tr>\n",
              "      <th>enkoin</th>\n",
              "      <td>1</td>\n",
              "    </tr>\n",
              "    <tr>\n",
              "      <th>crdedit</th>\n",
              "      <td>1</td>\n",
              "    </tr>\n",
              "    <tr>\n",
              "      <th>mento</th>\n",
              "      <td>1</td>\n",
              "    </tr>\n",
              "    <tr>\n",
              "      <th>rcoins</th>\n",
              "      <td>1</td>\n",
              "    </tr>\n",
              "  </tbody>\n",
              "</table>\n",
              "</div>"
            ],
            "text/plain": [
              "                   0\n",
              "bayaga             1\n",
              "lete               1\n",
              "a1908111649410105  1\n",
              "whar               1\n",
              "photot             1\n",
              "messengers         1\n",
              "a1902101042404851  1\n",
              "hellou             1\n",
              "hdzuax958w7b       1\n",
              "ajaxx              1\n",
              "erudito            1\n",
              "enkoin             1\n",
              "crdedit            1\n",
              "mento              1\n",
              "rcoins             1"
            ]
          },
          "metadata": {
            "tags": []
          },
          "execution_count": 30
        }
      ]
    },
    {
      "cell_type": "markdown",
      "metadata": {
        "id": "54836pfb9PqW",
        "colab_type": "text"
      },
      "source": [
        "# стемминг\n",
        "важной частью задач nlp является преобразование к первоначальной форме, т.к. мы сужаем область поиска для слов"
      ]
    },
    {
      "cell_type": "code",
      "metadata": {
        "id": "I_NG-LNd9Pqm",
        "colab_type": "code",
        "colab": {}
      },
      "source": [
        "text_analizator_df['text_arr'] = text_analizator_df.new_sentence.str.split('\\W+').tolist()"
      ],
      "execution_count": null,
      "outputs": []
    },
    {
      "cell_type": "code",
      "metadata": {
        "id": "pInTIWRG9PrQ",
        "colab_type": "code",
        "colab": {}
      },
      "source": [
        "from nltk.stem.porter import *\n",
        "stemming = PorterStemmer()\n",
        "\n",
        "def stem_list(row):\n",
        "    my_list = row['text_arr']\n",
        "    stemmed_list = [stemming.stem(word) for word in my_list]\n",
        "    return (stemmed_list)\n",
        "\n",
        "text_analizator_df['stem_arr'] = text_analizator_df.apply(stem_list, axis=1)\n"
      ],
      "execution_count": null,
      "outputs": []
    },
    {
      "cell_type": "code",
      "metadata": {
        "id": "9DSxZFCk9Prx",
        "colab_type": "code",
        "colab": {}
      },
      "source": [
        "text_arrays = text_analizator_df['stem_arr'].tolist()\n",
        "text_arrays = np.concatenate( text_arrays, axis=0 )\n"
      ],
      "execution_count": null,
      "outputs": []
    },
    {
      "cell_type": "code",
      "metadata": {
        "id": "dR7jV9Y59Psa",
        "colab_type": "code",
        "colab": {
          "base_uri": "https://localhost:8080/",
          "height": 488
        },
        "outputId": "21963cfa-93d7-4214-8751-78a8f67a9acb"
      },
      "source": [
        "#отлично видим что наши частовстречающиеся слова однородны\n",
        "c_text = co.Counter(text_arrays)\n",
        "\n",
        "w =[]\n",
        "count_w = []\n",
        "\n",
        "\n",
        "most_freq_words = []\n",
        "\n",
        "for i in c_text.most_common(15):\n",
        "    w.append(i[0])\n",
        "    count_w.append(i[1])\n",
        "\n",
        "fig, ax = plt.subplots(figsize=(16,8))\n",
        "ax.bar(range(len(w)), count_w)\n",
        "ax.set_xticks(range(len(w)))\n",
        "ax.set_xticklabels(w)\n",
        "ax.set_title('Top Words')"
      ],
      "execution_count": null,
      "outputs": [
        {
          "output_type": "execute_result",
          "data": {
            "text/plain": [
              "Text(0.5, 1.0, 'Top Words')"
            ]
          },
          "metadata": {
            "tags": []
          },
          "execution_count": 34
        },
        {
          "output_type": "display_data",
          "data": {
            "image/png": "[encoded data removed]",
            "text/plain": [
              "<Figure size 1152x576 with 1 Axes>"
            ]
          },
          "metadata": {
            "tags": [],
            "needs_background": "light"
          }
        }
      ]
    },
    {
      "cell_type": "code",
      "metadata": {
        "id": "nM2E1YL29PtK",
        "colab_type": "code",
        "colab": {
          "base_uri": "https://localhost:8080/",
          "height": 419
        },
        "outputId": "d2a1de8c-e3be-4643-c0d9-9d0ba4df57d4"
      },
      "source": [
        "# мы хотим попробовать подход tf-idf над словами, для того, чтобы веса были равномерны - давайте выберем наиболее корректные слова\n",
        "top_words = 1500\n",
        "pd.DataFrame.from_dict(dict(c_text) , orient = 'index').sort_values(by = 0,ascending = False).head(top_words)"
      ],
      "execution_count": null,
      "outputs": [
        {
          "output_type": "execute_result",
          "data": {
            "text/html": [
              "<div>\n",
              "<style scoped>\n",
              "    .dataframe tbody tr th:only-of-type {\n",
              "        vertical-align: middle;\n",
              "    }\n",
              "\n",
              "    .dataframe tbody tr th {\n",
              "        vertical-align: top;\n",
              "    }\n",
              "\n",
              "    .dataframe thead th {\n",
              "        text-align: right;\n",
              "    }\n",
              "</style>\n",
              "<table border=\"1\" class=\"dataframe\">\n",
              "  <thead>\n",
              "    <tr style=\"text-align: right;\">\n",
              "      <th></th>\n",
              "      <th>0</th>\n",
              "    </tr>\n",
              "  </thead>\n",
              "  <tbody>\n",
              "    <tr>\n",
              "      <th>visitor</th>\n",
              "      <td>240422</td>\n",
              "    </tr>\n",
              "    <tr>\n",
              "      <th>the</th>\n",
              "      <td>212603</td>\n",
              "    </tr>\n",
              "    <tr>\n",
              "      <th>a</th>\n",
              "      <td>104749</td>\n",
              "    </tr>\n",
              "    <tr>\n",
              "      <th>payment</th>\n",
              "      <td>96947</td>\n",
              "    </tr>\n",
              "    <tr>\n",
              "      <th>i</th>\n",
              "      <td>91611</td>\n",
              "    </tr>\n",
              "    <tr>\n",
              "      <th>...</th>\n",
              "      <td>...</td>\n",
              "    </tr>\n",
              "    <tr>\n",
              "      <th>doubl</th>\n",
              "      <td>76</td>\n",
              "    </tr>\n",
              "    <tr>\n",
              "      <th>session</th>\n",
              "      <td>76</td>\n",
              "    </tr>\n",
              "    <tr>\n",
              "      <th>embargo</th>\n",
              "      <td>76</td>\n",
              "    </tr>\n",
              "    <tr>\n",
              "      <th>maalesef</th>\n",
              "      <td>76</td>\n",
              "    </tr>\n",
              "    <tr>\n",
              "      <th>varia</th>\n",
              "      <td>75</td>\n",
              "    </tr>\n",
              "  </tbody>\n",
              "</table>\n",
              "<p>1500 rows × 1 columns</p>\n",
              "</div>"
            ],
            "text/plain": [
              "               0\n",
              "visitor   240422\n",
              "the       212603\n",
              "a         104749\n",
              "payment    96947\n",
              "i          91611\n",
              "...          ...\n",
              "doubl         76\n",
              "session       76\n",
              "embargo       76\n",
              "maalesef      76\n",
              "varia         75\n",
              "\n",
              "[1500 rows x 1 columns]"
            ]
          },
          "metadata": {
            "tags": []
          },
          "execution_count": 35
        }
      ]
    },
    {
      "cell_type": "code",
      "metadata": {
        "id": "DrDbIz2O9Pty",
        "colab_type": "code",
        "colab": {}
      },
      "source": [
        "#оставим для модели топ  слов\n",
        "final_words = pd.DataFrame.from_dict(dict(c_text) , orient = 'index').sort_values(by = 0 , ascending = False).head(top_words).index.values"
      ],
      "execution_count": null,
      "outputs": []
    },
    {
      "cell_type": "code",
      "metadata": {
        "id": "fcO4n6409PuO",
        "colab_type": "code",
        "colab": {}
      },
      "source": [
        "f = lambda x: ' '.join([item for item in x if item in final_words])\n",
        "text_analizator_df['stem_text'] = text_analizator_df['stem_arr'].apply(f)"
      ],
      "execution_count": null,
      "outputs": []
    },
    {
      "cell_type": "code",
      "metadata": {
        "id": "jvVh3Ct29Pux",
        "colab_type": "code",
        "colab": {
          "base_uri": "https://localhost:8080/",
          "height": 156
        },
        "outputId": "95efb845-a85e-425e-b461-7a94f4b0c29b"
      },
      "source": [
        "# в итоге выделив основные главне слова, которые нам могут быть интересны потенциально\n",
        "# получили new_sentence, можнте посмотреть как он отличается\n",
        "print(f'old- {text_analizator_df.loc[0][\"sentence\"]}' )\n",
        "print('\\n')\n",
        "print(f'new -{text_analizator_df.loc[0][\"new_sentence\"]}' )\n",
        "print('\\n')\n",
        "print(f'stem -{text_analizator_df.loc[0][\"stem_text\"]}' )"
      ],
      "execution_count": null,
      "outputs": [
        {
          "output_type": "stream",
          "text": [
            "old-  chat transcript: visitor: i am attempting to verify my card however the payment is not posting. all charges typically post immediately with my bank. sofia: hello sofia: please stand by online, as it may take some time to resolve the issue. ill provide you with an update in a few minutes. thank you for your patience. \n",
            "\n",
            "\n",
            "new -visitor i am verify card the payment all charges post bank sofia hello sofia please stand online take some time resolve the issue ill an update a minutes thank patience \n",
            "\n",
            "\n",
            "stem -visitor i am verifi card the payment all charg post bank sofia hello sofia pleas stand onlin take some time resolv the issu ill an updat a minut thank patienc \n"
          ],
          "name": "stdout"
        }
      ]
    },
    {
      "cell_type": "markdown",
      "metadata": {
        "id": "Ni9WeGZ19Pvc",
        "colab_type": "text"
      },
      "source": [
        "# сделаем теперь векторное представление"
      ]
    },
    {
      "cell_type": "code",
      "metadata": {
        "id": "MzbGvAes9Pvf",
        "colab_type": "code",
        "colab": {
          "base_uri": "https://localhost:8080/",
          "height": 34
        },
        "outputId": "cba22c34-c7f0-4a9a-a1d8-77235f674c8e"
      },
      "source": [
        "#ну тут без особой магии\n",
        "texts = df['message']\n",
        "texts = text_analizator_df['sentence']\n",
        "texts = text_analizator_df['stem_text']\n",
        "\n",
        "vec = TfidfVectorizer(max_features=top_words)\n",
        "tfidf_mat = vec.fit_transform(texts).toarray()\n",
        "print(type(tfidf_mat),tfidf_mat.shape)\n",
        "#на выход получаем матрицу заданной размерности"
      ],
      "execution_count": null,
      "outputs": [
        {
          "output_type": "stream",
          "text": [
            "<class 'numpy.ndarray'> (49499, 1474)\n"
          ],
          "name": "stdout"
        }
      ]
    },
    {
      "cell_type": "markdown",
      "metadata": {
        "id": "TOBO_ag19PwH",
        "colab_type": "text"
      },
      "source": [
        "# выравнивание классов"
      ]
    },
    {
      "cell_type": "code",
      "metadata": {
        "id": "hK8Y4Aqc9PwQ",
        "colab_type": "code",
        "colab": {
          "base_uri": "https://localhost:8080/",
          "height": 253
        },
        "outputId": "76c384a6-39f2-4385-9f10-7f80a3da9af8"
      },
      "source": [
        "train = pd.DataFrame(tfidf_mat)\n",
        "train['category'] =  df['category']\n",
        "\n",
        "target = 'category'\n",
        "train_columns = list(set(train.columns) - set([target]))\n",
        "\n",
        "train.head()"
      ],
      "execution_count": null,
      "outputs": [
        {
          "output_type": "execute_result",
          "data": {
            "text/html": [
              "<div>\n",
              "<style scoped>\n",
              "    .dataframe tbody tr th:only-of-type {\n",
              "        vertical-align: middle;\n",
              "    }\n",
              "\n",
              "    .dataframe tbody tr th {\n",
              "        vertical-align: top;\n",
              "    }\n",
              "\n",
              "    .dataframe thead th {\n",
              "        text-align: right;\n",
              "    }\n",
              "</style>\n",
              "<table border=\"1\" class=\"dataframe\">\n",
              "  <thead>\n",
              "    <tr style=\"text-align: right;\">\n",
              "      <th></th>\n",
              "      <th>0</th>\n",
              "      <th>1</th>\n",
              "      <th>2</th>\n",
              "      <th>3</th>\n",
              "      <th>4</th>\n",
              "      <th>5</th>\n",
              "      <th>6</th>\n",
              "      <th>7</th>\n",
              "      <th>8</th>\n",
              "      <th>9</th>\n",
              "      <th>10</th>\n",
              "      <th>11</th>\n",
              "      <th>12</th>\n",
              "      <th>13</th>\n",
              "      <th>14</th>\n",
              "      <th>15</th>\n",
              "      <th>16</th>\n",
              "      <th>17</th>\n",
              "      <th>18</th>\n",
              "      <th>19</th>\n",
              "      <th>20</th>\n",
              "      <th>21</th>\n",
              "      <th>22</th>\n",
              "      <th>23</th>\n",
              "      <th>24</th>\n",
              "      <th>25</th>\n",
              "      <th>26</th>\n",
              "      <th>27</th>\n",
              "      <th>28</th>\n",
              "      <th>29</th>\n",
              "      <th>30</th>\n",
              "      <th>31</th>\n",
              "      <th>32</th>\n",
              "      <th>33</th>\n",
              "      <th>34</th>\n",
              "      <th>35</th>\n",
              "      <th>36</th>\n",
              "      <th>37</th>\n",
              "      <th>38</th>\n",
              "      <th>39</th>\n",
              "      <th>...</th>\n",
              "      <th>1435</th>\n",
              "      <th>1436</th>\n",
              "      <th>1437</th>\n",
              "      <th>1438</th>\n",
              "      <th>1439</th>\n",
              "      <th>1440</th>\n",
              "      <th>1441</th>\n",
              "      <th>1442</th>\n",
              "      <th>1443</th>\n",
              "      <th>1444</th>\n",
              "      <th>1445</th>\n",
              "      <th>1446</th>\n",
              "      <th>1447</th>\n",
              "      <th>1448</th>\n",
              "      <th>1449</th>\n",
              "      <th>1450</th>\n",
              "      <th>1451</th>\n",
              "      <th>1452</th>\n",
              "      <th>1453</th>\n",
              "      <th>1454</th>\n",
              "      <th>1455</th>\n",
              "      <th>1456</th>\n",
              "      <th>1457</th>\n",
              "      <th>1458</th>\n",
              "      <th>1459</th>\n",
              "      <th>1460</th>\n",
              "      <th>1461</th>\n",
              "      <th>1462</th>\n",
              "      <th>1463</th>\n",
              "      <th>1464</th>\n",
              "      <th>1465</th>\n",
              "      <th>1466</th>\n",
              "      <th>1467</th>\n",
              "      <th>1468</th>\n",
              "      <th>1469</th>\n",
              "      <th>1470</th>\n",
              "      <th>1471</th>\n",
              "      <th>1472</th>\n",
              "      <th>1473</th>\n",
              "      <th>category</th>\n",
              "    </tr>\n",
              "  </thead>\n",
              "  <tbody>\n",
              "    <tr>\n",
              "      <th>0</th>\n",
              "      <td>0.0</td>\n",
              "      <td>0.0</td>\n",
              "      <td>0.0</td>\n",
              "      <td>0.0</td>\n",
              "      <td>0.0</td>\n",
              "      <td>0.0</td>\n",
              "      <td>0.000000</td>\n",
              "      <td>0.0</td>\n",
              "      <td>0.0</td>\n",
              "      <td>0.0</td>\n",
              "      <td>0.0</td>\n",
              "      <td>0.0</td>\n",
              "      <td>0.0</td>\n",
              "      <td>0.0</td>\n",
              "      <td>0.0</td>\n",
              "      <td>0.0</td>\n",
              "      <td>0.000000</td>\n",
              "      <td>0.0</td>\n",
              "      <td>0.0</td>\n",
              "      <td>0.0</td>\n",
              "      <td>0.0</td>\n",
              "      <td>0.0</td>\n",
              "      <td>0.0</td>\n",
              "      <td>0.0</td>\n",
              "      <td>0.0</td>\n",
              "      <td>0.0</td>\n",
              "      <td>0.0</td>\n",
              "      <td>0.0</td>\n",
              "      <td>0.0</td>\n",
              "      <td>0.0</td>\n",
              "      <td>0.0</td>\n",
              "      <td>0.0</td>\n",
              "      <td>0.0</td>\n",
              "      <td>0.0</td>\n",
              "      <td>0.0</td>\n",
              "      <td>0.0</td>\n",
              "      <td>0.0</td>\n",
              "      <td>0.0</td>\n",
              "      <td>0.0</td>\n",
              "      <td>0.0</td>\n",
              "      <td>...</td>\n",
              "      <td>0.0</td>\n",
              "      <td>0.0</td>\n",
              "      <td>0.0</td>\n",
              "      <td>0.0</td>\n",
              "      <td>0.0</td>\n",
              "      <td>0.0</td>\n",
              "      <td>0.0</td>\n",
              "      <td>0.0</td>\n",
              "      <td>0.0</td>\n",
              "      <td>0.0</td>\n",
              "      <td>0.0</td>\n",
              "      <td>0.0</td>\n",
              "      <td>0.0</td>\n",
              "      <td>0.0</td>\n",
              "      <td>0.0</td>\n",
              "      <td>0.0</td>\n",
              "      <td>0.0</td>\n",
              "      <td>0.0</td>\n",
              "      <td>0.0</td>\n",
              "      <td>0.0</td>\n",
              "      <td>0.0</td>\n",
              "      <td>0.000000</td>\n",
              "      <td>0.0</td>\n",
              "      <td>0.0</td>\n",
              "      <td>0.0</td>\n",
              "      <td>0.0</td>\n",
              "      <td>0.0</td>\n",
              "      <td>0.0</td>\n",
              "      <td>0.0</td>\n",
              "      <td>0.0</td>\n",
              "      <td>0.0</td>\n",
              "      <td>0.0</td>\n",
              "      <td>0.0</td>\n",
              "      <td>0.0</td>\n",
              "      <td>0.0</td>\n",
              "      <td>0.0</td>\n",
              "      <td>0.0</td>\n",
              "      <td>0.0</td>\n",
              "      <td>0.0</td>\n",
              "      <td>afs</td>\n",
              "    </tr>\n",
              "    <tr>\n",
              "      <th>1</th>\n",
              "      <td>0.0</td>\n",
              "      <td>0.0</td>\n",
              "      <td>0.0</td>\n",
              "      <td>0.0</td>\n",
              "      <td>0.0</td>\n",
              "      <td>0.0</td>\n",
              "      <td>0.173964</td>\n",
              "      <td>0.0</td>\n",
              "      <td>0.0</td>\n",
              "      <td>0.0</td>\n",
              "      <td>0.0</td>\n",
              "      <td>0.0</td>\n",
              "      <td>0.0</td>\n",
              "      <td>0.0</td>\n",
              "      <td>0.0</td>\n",
              "      <td>0.0</td>\n",
              "      <td>0.000000</td>\n",
              "      <td>0.0</td>\n",
              "      <td>0.0</td>\n",
              "      <td>0.0</td>\n",
              "      <td>0.0</td>\n",
              "      <td>0.0</td>\n",
              "      <td>0.0</td>\n",
              "      <td>0.0</td>\n",
              "      <td>0.0</td>\n",
              "      <td>0.0</td>\n",
              "      <td>0.0</td>\n",
              "      <td>0.0</td>\n",
              "      <td>0.0</td>\n",
              "      <td>0.0</td>\n",
              "      <td>0.0</td>\n",
              "      <td>0.0</td>\n",
              "      <td>0.0</td>\n",
              "      <td>0.0</td>\n",
              "      <td>0.0</td>\n",
              "      <td>0.0</td>\n",
              "      <td>0.0</td>\n",
              "      <td>0.0</td>\n",
              "      <td>0.0</td>\n",
              "      <td>0.0</td>\n",
              "      <td>...</td>\n",
              "      <td>0.0</td>\n",
              "      <td>0.0</td>\n",
              "      <td>0.0</td>\n",
              "      <td>0.0</td>\n",
              "      <td>0.0</td>\n",
              "      <td>0.0</td>\n",
              "      <td>0.0</td>\n",
              "      <td>0.0</td>\n",
              "      <td>0.0</td>\n",
              "      <td>0.0</td>\n",
              "      <td>0.0</td>\n",
              "      <td>0.0</td>\n",
              "      <td>0.0</td>\n",
              "      <td>0.0</td>\n",
              "      <td>0.0</td>\n",
              "      <td>0.0</td>\n",
              "      <td>0.0</td>\n",
              "      <td>0.0</td>\n",
              "      <td>0.0</td>\n",
              "      <td>0.0</td>\n",
              "      <td>0.0</td>\n",
              "      <td>0.000000</td>\n",
              "      <td>0.0</td>\n",
              "      <td>0.0</td>\n",
              "      <td>0.0</td>\n",
              "      <td>0.0</td>\n",
              "      <td>0.0</td>\n",
              "      <td>0.0</td>\n",
              "      <td>0.0</td>\n",
              "      <td>0.0</td>\n",
              "      <td>0.0</td>\n",
              "      <td>0.0</td>\n",
              "      <td>0.0</td>\n",
              "      <td>0.0</td>\n",
              "      <td>0.0</td>\n",
              "      <td>0.0</td>\n",
              "      <td>0.0</td>\n",
              "      <td>0.0</td>\n",
              "      <td>0.0</td>\n",
              "      <td>other</td>\n",
              "    </tr>\n",
              "    <tr>\n",
              "      <th>2</th>\n",
              "      <td>0.0</td>\n",
              "      <td>0.0</td>\n",
              "      <td>0.0</td>\n",
              "      <td>0.0</td>\n",
              "      <td>0.0</td>\n",
              "      <td>0.0</td>\n",
              "      <td>0.000000</td>\n",
              "      <td>0.0</td>\n",
              "      <td>0.0</td>\n",
              "      <td>0.0</td>\n",
              "      <td>0.0</td>\n",
              "      <td>0.0</td>\n",
              "      <td>0.0</td>\n",
              "      <td>0.0</td>\n",
              "      <td>0.0</td>\n",
              "      <td>0.0</td>\n",
              "      <td>0.000000</td>\n",
              "      <td>0.0</td>\n",
              "      <td>0.0</td>\n",
              "      <td>0.0</td>\n",
              "      <td>0.0</td>\n",
              "      <td>0.0</td>\n",
              "      <td>0.0</td>\n",
              "      <td>0.0</td>\n",
              "      <td>0.0</td>\n",
              "      <td>0.0</td>\n",
              "      <td>0.0</td>\n",
              "      <td>0.0</td>\n",
              "      <td>0.0</td>\n",
              "      <td>0.0</td>\n",
              "      <td>0.0</td>\n",
              "      <td>0.0</td>\n",
              "      <td>0.0</td>\n",
              "      <td>0.0</td>\n",
              "      <td>0.0</td>\n",
              "      <td>0.0</td>\n",
              "      <td>0.0</td>\n",
              "      <td>0.0</td>\n",
              "      <td>0.0</td>\n",
              "      <td>0.0</td>\n",
              "      <td>...</td>\n",
              "      <td>0.0</td>\n",
              "      <td>0.0</td>\n",
              "      <td>0.0</td>\n",
              "      <td>0.0</td>\n",
              "      <td>0.0</td>\n",
              "      <td>0.0</td>\n",
              "      <td>0.0</td>\n",
              "      <td>0.0</td>\n",
              "      <td>0.0</td>\n",
              "      <td>0.0</td>\n",
              "      <td>0.0</td>\n",
              "      <td>0.0</td>\n",
              "      <td>0.0</td>\n",
              "      <td>0.0</td>\n",
              "      <td>0.0</td>\n",
              "      <td>0.0</td>\n",
              "      <td>0.0</td>\n",
              "      <td>0.0</td>\n",
              "      <td>0.0</td>\n",
              "      <td>0.0</td>\n",
              "      <td>0.0</td>\n",
              "      <td>0.000000</td>\n",
              "      <td>0.0</td>\n",
              "      <td>0.0</td>\n",
              "      <td>0.0</td>\n",
              "      <td>0.0</td>\n",
              "      <td>0.0</td>\n",
              "      <td>0.0</td>\n",
              "      <td>0.0</td>\n",
              "      <td>0.0</td>\n",
              "      <td>0.0</td>\n",
              "      <td>0.0</td>\n",
              "      <td>0.0</td>\n",
              "      <td>0.0</td>\n",
              "      <td>0.0</td>\n",
              "      <td>0.0</td>\n",
              "      <td>0.0</td>\n",
              "      <td>0.0</td>\n",
              "      <td>0.0</td>\n",
              "      <td>afs</td>\n",
              "    </tr>\n",
              "    <tr>\n",
              "      <th>3</th>\n",
              "      <td>0.0</td>\n",
              "      <td>0.0</td>\n",
              "      <td>0.0</td>\n",
              "      <td>0.0</td>\n",
              "      <td>0.0</td>\n",
              "      <td>0.0</td>\n",
              "      <td>0.000000</td>\n",
              "      <td>0.0</td>\n",
              "      <td>0.0</td>\n",
              "      <td>0.0</td>\n",
              "      <td>0.0</td>\n",
              "      <td>0.0</td>\n",
              "      <td>0.0</td>\n",
              "      <td>0.0</td>\n",
              "      <td>0.0</td>\n",
              "      <td>0.0</td>\n",
              "      <td>0.000000</td>\n",
              "      <td>0.0</td>\n",
              "      <td>0.0</td>\n",
              "      <td>0.0</td>\n",
              "      <td>0.0</td>\n",
              "      <td>0.0</td>\n",
              "      <td>0.0</td>\n",
              "      <td>0.0</td>\n",
              "      <td>0.0</td>\n",
              "      <td>0.0</td>\n",
              "      <td>0.0</td>\n",
              "      <td>0.0</td>\n",
              "      <td>0.0</td>\n",
              "      <td>0.0</td>\n",
              "      <td>0.0</td>\n",
              "      <td>0.0</td>\n",
              "      <td>0.0</td>\n",
              "      <td>0.0</td>\n",
              "      <td>0.0</td>\n",
              "      <td>0.0</td>\n",
              "      <td>0.0</td>\n",
              "      <td>0.0</td>\n",
              "      <td>0.0</td>\n",
              "      <td>0.0</td>\n",
              "      <td>...</td>\n",
              "      <td>0.0</td>\n",
              "      <td>0.0</td>\n",
              "      <td>0.0</td>\n",
              "      <td>0.0</td>\n",
              "      <td>0.0</td>\n",
              "      <td>0.0</td>\n",
              "      <td>0.0</td>\n",
              "      <td>0.0</td>\n",
              "      <td>0.0</td>\n",
              "      <td>0.0</td>\n",
              "      <td>0.0</td>\n",
              "      <td>0.0</td>\n",
              "      <td>0.0</td>\n",
              "      <td>0.0</td>\n",
              "      <td>0.0</td>\n",
              "      <td>0.0</td>\n",
              "      <td>0.0</td>\n",
              "      <td>0.0</td>\n",
              "      <td>0.0</td>\n",
              "      <td>0.0</td>\n",
              "      <td>0.0</td>\n",
              "      <td>0.108642</td>\n",
              "      <td>0.0</td>\n",
              "      <td>0.0</td>\n",
              "      <td>0.0</td>\n",
              "      <td>0.0</td>\n",
              "      <td>0.0</td>\n",
              "      <td>0.0</td>\n",
              "      <td>0.0</td>\n",
              "      <td>0.0</td>\n",
              "      <td>0.0</td>\n",
              "      <td>0.0</td>\n",
              "      <td>0.0</td>\n",
              "      <td>0.0</td>\n",
              "      <td>0.0</td>\n",
              "      <td>0.0</td>\n",
              "      <td>0.0</td>\n",
              "      <td>0.0</td>\n",
              "      <td>0.0</td>\n",
              "      <td>afs</td>\n",
              "    </tr>\n",
              "    <tr>\n",
              "      <th>4</th>\n",
              "      <td>0.0</td>\n",
              "      <td>0.0</td>\n",
              "      <td>0.0</td>\n",
              "      <td>0.0</td>\n",
              "      <td>0.0</td>\n",
              "      <td>0.0</td>\n",
              "      <td>0.000000</td>\n",
              "      <td>0.0</td>\n",
              "      <td>0.0</td>\n",
              "      <td>0.0</td>\n",
              "      <td>0.0</td>\n",
              "      <td>0.0</td>\n",
              "      <td>0.0</td>\n",
              "      <td>0.0</td>\n",
              "      <td>0.0</td>\n",
              "      <td>0.0</td>\n",
              "      <td>0.222548</td>\n",
              "      <td>0.0</td>\n",
              "      <td>0.0</td>\n",
              "      <td>0.0</td>\n",
              "      <td>0.0</td>\n",
              "      <td>0.0</td>\n",
              "      <td>0.0</td>\n",
              "      <td>0.0</td>\n",
              "      <td>0.0</td>\n",
              "      <td>0.0</td>\n",
              "      <td>0.0</td>\n",
              "      <td>0.0</td>\n",
              "      <td>0.0</td>\n",
              "      <td>0.0</td>\n",
              "      <td>0.0</td>\n",
              "      <td>0.0</td>\n",
              "      <td>0.0</td>\n",
              "      <td>0.0</td>\n",
              "      <td>0.0</td>\n",
              "      <td>0.0</td>\n",
              "      <td>0.0</td>\n",
              "      <td>0.0</td>\n",
              "      <td>0.0</td>\n",
              "      <td>0.0</td>\n",
              "      <td>...</td>\n",
              "      <td>0.0</td>\n",
              "      <td>0.0</td>\n",
              "      <td>0.0</td>\n",
              "      <td>0.0</td>\n",
              "      <td>0.0</td>\n",
              "      <td>0.0</td>\n",
              "      <td>0.0</td>\n",
              "      <td>0.0</td>\n",
              "      <td>0.0</td>\n",
              "      <td>0.0</td>\n",
              "      <td>0.0</td>\n",
              "      <td>0.0</td>\n",
              "      <td>0.0</td>\n",
              "      <td>0.0</td>\n",
              "      <td>0.0</td>\n",
              "      <td>0.0</td>\n",
              "      <td>0.0</td>\n",
              "      <td>0.0</td>\n",
              "      <td>0.0</td>\n",
              "      <td>0.0</td>\n",
              "      <td>0.0</td>\n",
              "      <td>0.000000</td>\n",
              "      <td>0.0</td>\n",
              "      <td>0.0</td>\n",
              "      <td>0.0</td>\n",
              "      <td>0.0</td>\n",
              "      <td>0.0</td>\n",
              "      <td>0.0</td>\n",
              "      <td>0.0</td>\n",
              "      <td>0.0</td>\n",
              "      <td>0.0</td>\n",
              "      <td>0.0</td>\n",
              "      <td>0.0</td>\n",
              "      <td>0.0</td>\n",
              "      <td>0.0</td>\n",
              "      <td>0.0</td>\n",
              "      <td>0.0</td>\n",
              "      <td>0.0</td>\n",
              "      <td>0.0</td>\n",
              "      <td>afs</td>\n",
              "    </tr>\n",
              "  </tbody>\n",
              "</table>\n",
              "<p>5 rows × 1475 columns</p>\n",
              "</div>"
            ],
            "text/plain": [
              "     0    1    2    3    4    5  ...  1469  1470  1471  1472  1473  category\n",
              "0  0.0  0.0  0.0  0.0  0.0  0.0  ...   0.0   0.0   0.0   0.0   0.0       afs\n",
              "1  0.0  0.0  0.0  0.0  0.0  0.0  ...   0.0   0.0   0.0   0.0   0.0     other\n",
              "2  0.0  0.0  0.0  0.0  0.0  0.0  ...   0.0   0.0   0.0   0.0   0.0       afs\n",
              "3  0.0  0.0  0.0  0.0  0.0  0.0  ...   0.0   0.0   0.0   0.0   0.0       afs\n",
              "4  0.0  0.0  0.0  0.0  0.0  0.0  ...   0.0   0.0   0.0   0.0   0.0       afs\n",
              "\n",
              "[5 rows x 1475 columns]"
            ]
          },
          "metadata": {
            "tags": []
          },
          "execution_count": 40
        }
      ]
    },
    {
      "cell_type": "code",
      "metadata": {
        "id": "NJkmKIgJ9Pw1",
        "colab_type": "code",
        "colab": {}
      },
      "source": [
        "train.dropna(inplace = True)"
      ],
      "execution_count": null,
      "outputs": []
    },
    {
      "cell_type": "code",
      "metadata": {
        "id": "G04eYUeA9Pxk",
        "colab_type": "code",
        "colab": {}
      },
      "source": [
        "#переводим в инты таргет\n",
        "labels, levels = pd.factorize(train[target])\n",
        "train['category_int'] = labels\n",
        "\n",
        "target = 'category_int'"
      ],
      "execution_count": null,
      "outputs": []
    },
    {
      "cell_type": "code",
      "metadata": {
        "id": "bn_90P989PyI",
        "colab_type": "code",
        "colab": {
          "base_uri": "https://localhost:8080/",
          "height": 34
        },
        "outputId": "dd82977d-d021-4334-b789-d8d9c05d90c9"
      },
      "source": [
        "train[(train['category_int'] == -1)]\n",
        "train.category.unique()"
      ],
      "execution_count": null,
      "outputs": [
        {
          "output_type": "execute_result",
          "data": {
            "text/plain": [
              "array(['afs', 'other', 'ps'], dtype=object)"
            ]
          },
          "metadata": {
            "tags": []
          },
          "execution_count": 44
        }
      ]
    },
    {
      "cell_type": "code",
      "metadata": {
        "id": "onEV-KQd9Py0",
        "colab_type": "code",
        "colab": {
          "base_uri": "https://localhost:8080/",
          "height": 278
        },
        "outputId": "623ce3c1-0c3c-48c7-84ac-0e12a98667db"
      },
      "source": [
        "train[target].value_counts().plot(kind='bar', title='Count (target)');"
      ],
      "execution_count": null,
      "outputs": [
        {
          "output_type": "display_data",
          "data": {
            "image/png": "[encoded data removed]",
            "text/plain": [
              "<Figure size 432x288 with 1 Axes>"
            ]
          },
          "metadata": {
            "tags": [],
            "needs_background": "light"
          }
        }
      ]
    },
    {
      "cell_type": "code",
      "metadata": {
        "id": "ZBDtnkmp9PzR",
        "colab_type": "code",
        "colab": {}
      },
      "source": [
        "#сделаем оверсемплинг\n",
        "\n",
        "from imblearn.over_sampling import RandomOverSampler\n",
        "\n",
        "ros = RandomOverSampler()\n",
        "X_ros, y_ros = ros.fit_sample(train[train_columns], train[target])\n",
        "\n",
        "print(f'rate target detect fight in game {sum(y_ros) / X_ros.shape[0]}')\n",
        "\n",
        "y_ros.value_counts().plot(kind='bar', title='Count (target)');\n"
      ],
      "execution_count": null,
      "outputs": []
    },
    {
      "cell_type": "code",
      "metadata": {
        "id": "kNMp_xdb9Pzn",
        "colab_type": "code",
        "colab": {}
      },
      "source": [
        "X_ros[target] = y_ros\n",
        "train = X_ros[:]"
      ],
      "execution_count": null,
      "outputs": []
    },
    {
      "cell_type": "markdown",
      "metadata": {
        "id": "H72SlPrd9Pz_",
        "colab_type": "text"
      },
      "source": [
        "# наконец переходим к модели"
      ]
    },
    {
      "cell_type": "code",
      "metadata": {
        "id": "fR6ujNnJ9P0J",
        "colab_type": "code",
        "colab": {}
      },
      "source": [
        "#будем использовать LightGBM как основной фреймворк для построения модели\n",
        "# попробуем?\n",
        "import lightgbm as lgb\n",
        "\n",
        "from hyperopt import hp\n",
        "from hyperopt import fmin, tpe, hp, STATUS_OK, Trials"
      ],
      "execution_count": null,
      "outputs": []
    },
    {
      "cell_type": "code",
      "metadata": {
        "id": "B-MfTn-m9P1G",
        "colab_type": "code",
        "colab": {
          "base_uri": "https://localhost:8080/",
          "height": 51
        },
        "outputId": "7d1edcac-3d3a-42e8-b8c1-0c4515719300"
      },
      "source": [
        "#отложим выборку для финальной оценки\n",
        "\n",
        "# уменьшила выборку т.к. не тащит ноут\n",
        "\n",
        "from sklearn.model_selection import train_test_split\n",
        "x_train, x_test, y_train, y_test = train_test_split(train[train_columns][0:10000]\n",
        "                                                    , train[target][0:10000] \n",
        "                                                    , test_size=0.2\n",
        "                                                    , random_state=400 \n",
        "                                                    , stratify = train[target][0:10000] \n",
        "                                                   )\n",
        "\n",
        "print(f'Train set: {x_train.shape[0]} size , {sum(y_train) / x_train.shape[0]} target size')\n",
        "print(f'Test set: {x_test.shape[0]} size , {sum(y_test) / x_test.shape[0]} target size')\n"
      ],
      "execution_count": 80,
      "outputs": [
        {
          "output_type": "stream",
          "text": [
            "Train set: 8000 size , 0.42075 target size\n",
            "Test set: 2000 size , 0.4205 target size\n"
          ],
          "name": "stdout"
        }
      ]
    },
    {
      "cell_type": "code",
      "metadata": {
        "id": "rLAKovwX9P2T",
        "colab_type": "code",
        "colab": {}
      },
      "source": [
        "#а давайте попробуем бустинг\n",
        "from sklearn.model_selection import RepeatedStratifiedKFold , StratifiedKFold\n",
        "skf = RepeatedStratifiedKFold(n_splits=3, n_repeats=2, random_state=22031990)\n",
        "skf = StratifiedKFold(n_splits=3, random_state=22031990, shuffle=False)"
      ],
      "execution_count": null,
      "outputs": []
    },
    {
      "cell_type": "code",
      "metadata": {
        "id": "UZtjO65n9P2_",
        "colab_type": "code",
        "colab": {}
      },
      "source": [
        "lgb_data_train = lgb.Dataset(x_train[train_columns], \n",
        "                             y_train, \n",
        "                             free_raw_data=False\n",
        "                            )\n",
        "\n",
        "#инициируем целевые параметры для первого приближения модели\n",
        "#можете детальнее посмотреть тут https://lightgbm.readthedocs.io/en/latest/Parameters.html\n",
        "params = {\n",
        "    'objective':'multiclass', \n",
        "    'metric': 'multi_logloss',\n",
        "    \"num_class\" : 3,\n",
        "    'learning_rate': 0.01, \n",
        "    'random_state':202008,\n",
        "    'subsample':0.33,\n",
        "    'colsample_bytree':0.33,\n",
        "    'reg_lambda':4\n",
        "}\n",
        "\n",
        "\n",
        "h = lgb.cv(params, \n",
        "           lgb_data_train, \n",
        "           num_boost_round=500,\n",
        "           early_stopping_rounds=50, \n",
        "           verbose_eval=10, \n",
        "           folds=skf.split(x_train[train_columns], y_train)\n",
        "          )\n",
        "\n"
      ],
      "execution_count": null,
      "outputs": []
    },
    {
      "cell_type": "code",
      "metadata": {
        "id": "UjDDIo0u9P3s",
        "colab_type": "code",
        "colab": {}
      },
      "source": [
        "#можно еще поиграться с гипероптом? :)\n",
        "optimal_boost = 200\n",
        "lgb_data_train = lgb.Dataset(x_train[train_columns], \n",
        "                             y_train, \n",
        "                             free_raw_data=False\n",
        "                            )\n",
        "\n",
        "\n",
        "model = lgb.train(params, lgb_data_train, num_boost_round=optimal_boost  )"
      ],
      "execution_count": null,
      "outputs": []
    },
    {
      "cell_type": "code",
      "metadata": {
        "id": "ALV1zhUP9P4Y",
        "colab_type": "code",
        "colab": {}
      },
      "source": [
        "predicts_prob = model.predict(x_test)\n",
        "prediction_class = []\n",
        "\n",
        "for x in predicts_prob:\n",
        "    prediction_class.append(np.argmax(x))"
      ],
      "execution_count": null,
      "outputs": []
    },
    {
      "cell_type": "code",
      "metadata": {
        "id": "hKiRMhQZsXFD",
        "colab_type": "code",
        "colab": {}
      },
      "source": [
        "import matplotlib.pyplot as plt\n",
        "import matplotlib\n",
        "\n",
        "from mlxtend.evaluate import confusion_matrix\n",
        "from mlxtend.plotting import plot_confusion_matrix\n",
        "\n",
        "\n",
        "#one\n",
        "predict_i = model.predict(np.array([cv_result[0]]))\n",
        "#many\n",
        "predict_i = model.predict(cv_result[0:])\n",
        "\n",
        "y_pred = predict_i.argmax(axis=-1)\n",
        "y_target = target.argmax(axis=-1)\n",
        "\n",
        "\n",
        "cm = confusion_matrix(y_target=y_,\n",
        "                      y_predicted=y_pred)\n",
        "\n",
        "fig, ax = plot_confusion_matrix(conf_mat=cm)\n",
        "\n",
        "ig = matplotlib.pyplot.gcf()\n",
        "fig.set_size_inches(18.5, 10.5)\n",
        "#fig.savefig('test2png.png', dpi=100)\n",
        "plt.show()"
      ],
      "execution_count": null,
      "outputs": []
    },
    {
      "cell_type": "markdown",
      "metadata": {
        "id": "opyrIEMBsZRX",
        "colab_type": "text"
      },
      "source": [
        "# Моя модель"
      ]
    },
    {
      "cell_type": "code",
      "metadata": {
        "id": "eFOn164Tx7La",
        "colab_type": "code",
        "colab": {}
      },
      "source": [
        "#сохраняем векторайзер\n",
        "import pickle \n",
        "\n",
        "labels, levels = pd.factorize(df['category'])\n",
        "df['category_int'] = labels\n",
        "\n",
        "texts = df['message']\n",
        "\n",
        "vec = TfidfVectorizer(max_features=100)\n",
        "tfidf_mat = vec.fit_transform(texts).toarray()\n",
        "\n",
        "#сохраняем модель в файл\n",
        "pickle.dump(vec, open(\"tfidf.pickle\", \"wb\"))\n",
        "\n",
        "#загружаем модель из файла\n",
        "vec = pickle.load(open(\"tfidf.pickle\", \"rb\"))"
      ],
      "execution_count": 173,
      "outputs": []
    },
    {
      "cell_type": "code",
      "metadata": {
        "id": "ruheRkA81xpP",
        "colab_type": "code",
        "colab": {}
      },
      "source": [
        "#### сохраняем бустинг\n",
        "\n",
        "train = pd.DataFrame(tfidf_mat)\n",
        "train['category_int'] = df['category_int']\n",
        "\n",
        "train.dropna(inplace = True)\n",
        "\n",
        "target = 'category_int'\n",
        "train_columns = list(set(train.columns) - set([target]))"
      ],
      "execution_count": 174,
      "outputs": []
    },
    {
      "cell_type": "code",
      "metadata": {
        "id": "YjdcwPi2xJE3",
        "colab_type": "code",
        "colab": {}
      },
      "source": [
        "# CNN\n",
        "\n",
        "import keras\n",
        "embedding_dim = 100\n",
        "\n",
        "model = keras.Sequential([keras.layers.Embedding (400, embedding_dim, input_length=100),\n",
        "keras.layers.Conv1D(128, 5, activation='relu'),\n",
        "keras.layers.GlobalMaxPooling1D(),\n",
        "keras.layers.Dense(10, activation='relu'),\n",
        "keras.layers.Dense(1, activation='sigmoid')]) \n",
        "model.compile(optimizer='adam',\n",
        "              loss='categorical_crossentropy',\n",
        "              metrics=['accuracy'])\n",
        "model.fit(x_train, y_train,\n",
        "                    epochs=10, # эпохи\n",
        "                    verbose=False,\n",
        "                    validation_data=(x_test, y_test),\n",
        "                    batch_size=10)\n",
        "\n",
        "# Сохраним всю модель в файл HDF5\n",
        "model.save('my_model.h5')"
      ],
      "execution_count": 175,
      "outputs": []
    },
    {
      "cell_type": "code",
      "metadata": {
        "id": "kYFc5rrCpfSV",
        "colab_type": "code",
        "colab": {}
      },
      "source": [
        "# Пересоздадим в точности эту модель включая веса и оптимизатор.\n",
        "model = keras.models.load_model('my_model.h5')"
      ],
      "execution_count": 176,
      "outputs": []
    },
    {
      "cell_type": "code",
      "metadata": {
        "id": "aZPdaK8P6JOB",
        "colab_type": "code",
        "colab": {
          "base_uri": "https://localhost:8080/",
          "height": 51
        },
        "outputId": "ba722a7d-dcb7-4281-d4c5-460e90b6aa93"
      },
      "source": [
        "loss, accuracy = model.evaluate(x_train, y_train, verbose=False)\n",
        "print(\"Training Accuracy: {:.4f}\".format(accuracy))\n",
        "loss, accuracy = model.evaluate(x_test, y_test, verbose=False)\n",
        "print(\"Testing Accuracy:  {:.4f}\".format(accuracy))"
      ],
      "execution_count": 177,
      "outputs": [
        {
          "output_type": "stream",
          "text": [
            "Training Accuracy: 0.7063\n",
            "Testing Accuracy:  0.7065\n"
          ],
          "name": "stdout"
        }
      ]
    },
    {
      "cell_type": "code",
      "metadata": {
        "id": "IP1ha2W7LUr1",
        "colab_type": "code",
        "colab": {
          "base_uri": "https://localhost:8080/",
          "height": 34
        },
        "outputId": "db8acc7a-32a4-443c-81de-25cfbfff26d9"
      },
      "source": [
        "message = 'hello i want to payment but it is blocked'\n",
        "model.predict_classes(vec.transform([message]).toarray())"
      ],
      "execution_count": 179,
      "outputs": [
        {
          "output_type": "execute_result",
          "data": {
            "text/plain": [
              "array([[0]], dtype=int32)"
            ]
          },
          "metadata": {
            "tags": []
          },
          "execution_count": 179
        }
      ]
    }
  ]
}